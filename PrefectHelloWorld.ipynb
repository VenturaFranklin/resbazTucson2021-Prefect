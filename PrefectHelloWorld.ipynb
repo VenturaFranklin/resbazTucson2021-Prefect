{
  "nbformat": 4,
  "nbformat_minor": 0,
  "metadata": {
    "colab": {
      "name": "PrefectHelloWorld.ipynb",
      "provenance": [],
      "collapsed_sections": []
    },
    "kernelspec": {
      "name": "python3",
      "display_name": "Python 3"
    }
  },
  "cells": [
    {
      "cell_type": "markdown",
      "metadata": {
        "id": "aUQQpvVSu_Tg"
      },
      "source": [
        "# Prefect for data pipelines in Python\n",
        "Workshop materials for [Prefect](http://prefect.io/) for data pipelines in Python for the Research Bazaar Tucson, AZ 2021\n",
        "\n",
        "See the repository at: https://github.com/VenturaFranklin/resbazTucson2021-Prefect \n",
        "\n",
        "# Hello World\n"
      ]
    },
    {
      "cell_type": "code",
      "metadata": {
        "id": "UIuKsJxQWGBd",
        "colab": {
          "base_uri": "https://localhost:8080/"
        },
        "outputId": "ef617f9c-5f68-4653-e56a-4af31341d71c"
      },
      "source": [
        "# Install prefect\n",
        "!pip3 install prefect"
      ],
      "execution_count": null,
      "outputs": [
        {
          "output_type": "stream",
          "text": [
            "Collecting prefect\n",
            "\u001b[?25l  Downloading https://files.pythonhosted.org/packages/79/7c/50cddc1173b088e7cc135663e246e64270e760cf30102d7506b859ba9c13/prefect-0.14.19-py3-none-any.whl (516kB)\n",
            "\r\u001b[K     |▋                               | 10kB 14.0MB/s eta 0:00:01\r\u001b[K     |█▎                              | 20kB 20.2MB/s eta 0:00:01\r\u001b[K     |██                              | 30kB 10.6MB/s eta 0:00:01\r\u001b[K     |██▌                             | 40kB 7.7MB/s eta 0:00:01\r\u001b[K     |███▏                            | 51kB 3.3MB/s eta 0:00:01\r\u001b[K     |███▉                            | 61kB 3.7MB/s eta 0:00:01\r\u001b[K     |████▍                           | 71kB 3.6MB/s eta 0:00:01\r\u001b[K     |█████                           | 81kB 3.8MB/s eta 0:00:01\r\u001b[K     |█████▊                          | 92kB 4.2MB/s eta 0:00:01\r\u001b[K     |██████▍                         | 102kB 4.2MB/s eta 0:00:01\r\u001b[K     |███████                         | 112kB 4.2MB/s eta 0:00:01\r\u001b[K     |███████▋                        | 122kB 4.2MB/s eta 0:00:01\r\u001b[K     |████████▎                       | 133kB 4.2MB/s eta 0:00:01\r\u001b[K     |████████▉                       | 143kB 4.2MB/s eta 0:00:01\r\u001b[K     |█████████▌                      | 153kB 4.2MB/s eta 0:00:01\r\u001b[K     |██████████▏                     | 163kB 4.2MB/s eta 0:00:01\r\u001b[K     |██████████▉                     | 174kB 4.2MB/s eta 0:00:01\r\u001b[K     |███████████▍                    | 184kB 4.2MB/s eta 0:00:01\r\u001b[K     |████████████                    | 194kB 4.2MB/s eta 0:00:01\r\u001b[K     |████████████▊                   | 204kB 4.2MB/s eta 0:00:01\r\u001b[K     |█████████████▎                  | 215kB 4.2MB/s eta 0:00:01\r\u001b[K     |██████████████                  | 225kB 4.2MB/s eta 0:00:01\r\u001b[K     |██████████████▋                 | 235kB 4.2MB/s eta 0:00:01\r\u001b[K     |███████████████▏                | 245kB 4.2MB/s eta 0:00:01\r\u001b[K     |███████████████▉                | 256kB 4.2MB/s eta 0:00:01\r\u001b[K     |████████████████▌               | 266kB 4.2MB/s eta 0:00:01\r\u001b[K     |█████████████████▏              | 276kB 4.2MB/s eta 0:00:01\r\u001b[K     |█████████████████▊              | 286kB 4.2MB/s eta 0:00:01\r\u001b[K     |██████████████████▍             | 296kB 4.2MB/s eta 0:00:01\r\u001b[K     |███████████████████             | 307kB 4.2MB/s eta 0:00:01\r\u001b[K     |███████████████████▋            | 317kB 4.2MB/s eta 0:00:01\r\u001b[K     |████████████████████▎           | 327kB 4.2MB/s eta 0:00:01\r\u001b[K     |█████████████████████           | 337kB 4.2MB/s eta 0:00:01\r\u001b[K     |█████████████████████▋          | 348kB 4.2MB/s eta 0:00:01\r\u001b[K     |██████████████████████▏         | 358kB 4.2MB/s eta 0:00:01\r\u001b[K     |██████████████████████▉         | 368kB 4.2MB/s eta 0:00:01\r\u001b[K     |███████████████████████▌        | 378kB 4.2MB/s eta 0:00:01\r\u001b[K     |████████████████████████        | 389kB 4.2MB/s eta 0:00:01\r\u001b[K     |████████████████████████▊       | 399kB 4.2MB/s eta 0:00:01\r\u001b[K     |█████████████████████████▍      | 409kB 4.2MB/s eta 0:00:01\r\u001b[K     |██████████████████████████      | 419kB 4.2MB/s eta 0:00:01\r\u001b[K     |██████████████████████████▋     | 430kB 4.2MB/s eta 0:00:01\r\u001b[K     |███████████████████████████▎    | 440kB 4.2MB/s eta 0:00:01\r\u001b[K     |████████████████████████████    | 450kB 4.2MB/s eta 0:00:01\r\u001b[K     |████████████████████████████▌   | 460kB 4.2MB/s eta 0:00:01\r\u001b[K     |█████████████████████████████▏  | 471kB 4.2MB/s eta 0:00:01\r\u001b[K     |█████████████████████████████▉  | 481kB 4.2MB/s eta 0:00:01\r\u001b[K     |██████████████████████████████▍ | 491kB 4.2MB/s eta 0:00:01\r\u001b[K     |███████████████████████████████ | 501kB 4.2MB/s eta 0:00:01\r\u001b[K     |███████████████████████████████▊| 512kB 4.2MB/s eta 0:00:01\r\u001b[K     |████████████████████████████████| 522kB 4.2MB/s \n",
            "\u001b[?25hRequirement already satisfied: requests>=2.20 in /usr/local/lib/python3.7/dist-packages (from prefect) (2.23.0)\n",
            "Collecting marshmallow-oneofschema>=2.0.0b2\n",
            "  Downloading https://files.pythonhosted.org/packages/c3/97/9ce88933f06ba65c3f1751d99129960d69beef8d468307eede32a38174e1/marshmallow_oneofschema-2.1.0-py2.py3-none-any.whl\n",
            "Requirement already satisfied: cloudpickle>=1.3.0 in /usr/local/lib/python3.7/dist-packages (from prefect) (1.3.0)\n",
            "Requirement already satisfied: urllib3>=1.24.3 in /usr/local/lib/python3.7/dist-packages (from prefect) (1.24.3)\n",
            "Requirement already satisfied: toml>=0.9.4 in /usr/local/lib/python3.7/dist-packages (from prefect) (0.10.2)\n",
            "Requirement already satisfied: click>=7.0 in /usr/local/lib/python3.7/dist-packages (from prefect) (8.0.0)\n",
            "Collecting mypy-extensions>=0.4.0\n",
            "  Downloading https://files.pythonhosted.org/packages/5c/eb/975c7c080f3223a5cdaff09612f3a5221e4ba534f7039db34c35d95fa6a5/mypy_extensions-0.4.3-py2.py3-none-any.whl\n",
            "Collecting python-box>=5.1.0\n",
            "  Downloading https://files.pythonhosted.org/packages/ae/55/b81be1c1456d93db93905b364d19cac5dde22fb8f442b42d41087c2fe28f/python_box-5.3.0-py3-none-any.whl\n",
            "Collecting dask>=2.17.0; python_version > \"3.6\"\n",
            "\u001b[?25l  Downloading https://files.pythonhosted.org/packages/b9/a0/0905a1112dc3801304348ac0af0e641a2fbe12fe163ab5c3a43b2e88092d/dask-2021.5.0-py3-none-any.whl (960kB)\n",
            "\u001b[K     |████████████████████████████████| 962kB 19.5MB/s \n",
            "\u001b[?25hRequirement already satisfied: tabulate>=0.8.0 in /usr/local/lib/python3.7/dist-packages (from prefect) (0.8.9)\n",
            "Collecting croniter<1.0,>=0.3.24\n",
            "  Downloading https://files.pythonhosted.org/packages/05/e5/1d2b7e3c36c444e78a31d7f0b8a1799acf4f8d869693f2232a3555a5dc6f/croniter-0.3.37-py2.py3-none-any.whl\n",
            "Requirement already satisfied: python-dateutil>=2.7.0 in /usr/local/lib/python3.7/dist-packages (from prefect) (2.8.1)\n",
            "Requirement already satisfied: pytz>=2018.7 in /usr/local/lib/python3.7/dist-packages (from prefect) (2018.9)\n",
            "Collecting pendulum>=2.0.4\n",
            "\u001b[?25l  Downloading https://files.pythonhosted.org/packages/3e/40/bcf73cf69ffc4d68b80b68b5ce4e5f9d8185170e9fac65a73e247e948ff3/pendulum-2.1.2-cp37-cp37m-manylinux1_x86_64.whl (155kB)\n",
            "\u001b[K     |████████████████████████████████| 163kB 24.7MB/s \n",
            "\u001b[?25hRequirement already satisfied: msgpack>=0.6.0 in /usr/local/lib/python3.7/dist-packages (from prefect) (1.0.2)\n",
            "Collecting marshmallow>=3.0.0b19\n",
            "\u001b[?25l  Downloading https://files.pythonhosted.org/packages/e6/58/c35930f6ae92b4a434deac37fed0bc2d0577e1f59584e0018a69e699632f/marshmallow-3.12.1-py2.py3-none-any.whl (47kB)\n",
            "\u001b[K     |████████████████████████████████| 51kB 4.7MB/s \n",
            "\u001b[?25hRequirement already satisfied: pyyaml>=3.13 in /usr/local/lib/python3.7/dist-packages (from prefect) (3.13)\n",
            "Requirement already satisfied: python-slugify>=1.2.6 in /usr/local/lib/python3.7/dist-packages (from prefect) (5.0.2)\n",
            "Collecting distributed>=2.17.0; python_version > \"3.6\"\n",
            "\u001b[?25l  Downloading https://files.pythonhosted.org/packages/6b/be/e150dfcdceb22ac1a15ed6ab03268bd760b59cce6b6d4e584454efd8ca8c/distributed-2021.5.0-py3-none-any.whl (699kB)\n",
            "\u001b[K     |████████████████████████████████| 706kB 24.2MB/s \n",
            "\u001b[?25hCollecting docker>=3.4.1\n",
            "\u001b[?25l  Downloading https://files.pythonhosted.org/packages/b2/5a/f988909dfed18c1ac42ad8d9e611e6c5657e270aa6eb68559985dbb69c13/docker-5.0.0-py2.py3-none-any.whl (146kB)\n",
            "\u001b[K     |████████████████████████████████| 153kB 30.4MB/s \n",
            "\u001b[?25hRequirement already satisfied: certifi>=2017.4.17 in /usr/local/lib/python3.7/dist-packages (from requests>=2.20->prefect) (2020.12.5)\n",
            "Requirement already satisfied: chardet<4,>=3.0.2 in /usr/local/lib/python3.7/dist-packages (from requests>=2.20->prefect) (3.0.4)\n",
            "Requirement already satisfied: idna<3,>=2.5 in /usr/local/lib/python3.7/dist-packages (from requests>=2.20->prefect) (2.10)\n",
            "Collecting fsspec>=0.6.0\n",
            "\u001b[?25l  Downloading https://files.pythonhosted.org/packages/bc/52/816d1a3a599176057bf29dfacb1f8fadb61d35fbd96cb1bab4aaa7df83c0/fsspec-2021.5.0-py3-none-any.whl (111kB)\n",
            "\u001b[K     |████████████████████████████████| 112kB 28.9MB/s \n",
            "\u001b[?25hCollecting partd>=0.3.10\n",
            "  Downloading https://files.pythonhosted.org/packages/41/94/360258a68b55f47859d72b2d0b2b3cfe0ca4fbbcb81b78812bd00ae86b7c/partd-1.2.0-py3-none-any.whl\n",
            "Requirement already satisfied: toolz>=0.8.2 in /usr/local/lib/python3.7/dist-packages (from dask>=2.17.0; python_version > \"3.6\"->prefect) (0.11.1)\n",
            "Requirement already satisfied: natsort in /usr/local/lib/python3.7/dist-packages (from croniter<1.0,>=0.3.24->prefect) (5.5.0)\n",
            "Requirement already satisfied: six>=1.5 in /usr/local/lib/python3.7/dist-packages (from python-dateutil>=2.7.0->prefect) (1.15.0)\n",
            "Collecting pytzdata>=2020.1\n",
            "\u001b[?25l  Downloading https://files.pythonhosted.org/packages/e0/4f/4474bda990ee740a020cbc3eb271925ef7daa7c8444240d34ff62c8442a3/pytzdata-2020.1-py2.py3-none-any.whl (489kB)\n",
            "\u001b[K     |████████████████████████████████| 491kB 30.9MB/s \n",
            "\u001b[?25hRequirement already satisfied: text-unidecode>=1.3 in /usr/local/lib/python3.7/dist-packages (from python-slugify>=1.2.6->prefect) (1.3)\n",
            "Requirement already satisfied: tblib>=1.6.0 in /usr/local/lib/python3.7/dist-packages (from distributed>=2.17.0; python_version > \"3.6\"->prefect) (1.7.0)\n",
            "Requirement already satisfied: psutil>=5.0 in /usr/local/lib/python3.7/dist-packages (from distributed>=2.17.0; python_version > \"3.6\"->prefect) (5.4.8)\n",
            "Requirement already satisfied: zict>=0.1.3 in /usr/local/lib/python3.7/dist-packages (from distributed>=2.17.0; python_version > \"3.6\"->prefect) (2.0.0)\n",
            "Requirement already satisfied: setuptools in /usr/local/lib/python3.7/dist-packages (from distributed>=2.17.0; python_version > \"3.6\"->prefect) (56.1.0)\n",
            "Requirement already satisfied: tornado>=5; python_version < \"3.8\" in /usr/local/lib/python3.7/dist-packages (from distributed>=2.17.0; python_version > \"3.6\"->prefect) (5.1.1)\n",
            "Requirement already satisfied: sortedcontainers!=2.0.0,!=2.0.1 in /usr/local/lib/python3.7/dist-packages (from distributed>=2.17.0; python_version > \"3.6\"->prefect) (2.3.0)\n",
            "Collecting websocket-client>=0.32.0\n",
            "\u001b[?25l  Downloading https://files.pythonhosted.org/packages/ba/d1/501076b54481412df1bc4cdd1fe479f66e17857c63ec5981bedcdc2ca793/websocket_client-1.0.0-py2.py3-none-any.whl (68kB)\n",
            "\u001b[K     |████████████████████████████████| 71kB 6.9MB/s \n",
            "\u001b[?25hCollecting locket\n",
            "  Downloading https://files.pythonhosted.org/packages/50/b8/e789e45b9b9c2db75e9d9e6ceb022c8d1d7e49b2c085ce8c05600f90a96b/locket-0.2.1-py2.py3-none-any.whl\n",
            "Requirement already satisfied: heapdict in /usr/local/lib/python3.7/dist-packages (from zict>=0.1.3->distributed>=2.17.0; python_version > \"3.6\"->prefect) (1.0.1)\n",
            "\u001b[31mERROR: distributed 2021.5.0 has requirement cloudpickle>=1.5.0, but you'll have cloudpickle 1.3.0 which is incompatible.\u001b[0m\n",
            "Installing collected packages: marshmallow, marshmallow-oneofschema, mypy-extensions, python-box, fsspec, locket, partd, dask, croniter, pytzdata, pendulum, distributed, websocket-client, docker, prefect\n",
            "  Found existing installation: dask 2.12.0\n",
            "    Uninstalling dask-2.12.0:\n",
            "      Successfully uninstalled dask-2.12.0\n",
            "  Found existing installation: distributed 1.25.3\n",
            "    Uninstalling distributed-1.25.3:\n",
            "      Successfully uninstalled distributed-1.25.3\n",
            "Successfully installed croniter-0.3.37 dask-2021.5.0 distributed-2021.5.0 docker-5.0.0 fsspec-2021.5.0 locket-0.2.1 marshmallow-3.12.1 marshmallow-oneofschema-2.1.0 mypy-extensions-0.4.3 partd-1.2.0 pendulum-2.1.2 prefect-0.14.19 python-box-5.3.0 pytzdata-2020.1 websocket-client-1.0.0\n"
          ],
          "name": "stdout"
        }
      ]
    },
    {
      "cell_type": "code",
      "metadata": {
        "id": "6p3nRE9VWYoC"
      },
      "source": [
        "# Import the main code classes/functions\n",
        "from time import sleep\n",
        "import prefect\n",
        "from prefect import Flow, Parameter, task, Client\n",
        "# set logging so we can see everything that is happening\n",
        "main_logger = prefect.utilities.logging.get_logger()\n",
        "main_logger.setLevel(\"DEBUG\")"
      ],
      "execution_count": null,
      "outputs": []
    },
    {
      "cell_type": "code",
      "metadata": {
        "id": "jMMGq2pcWlFg"
      },
      "source": [
        "@task\n",
        "def test_logger(file_path, config):\n",
        "    \"\"\"\n",
        "    Task used for testing and learning about prefect\n",
        "    \"\"\"\n",
        "    logger = prefect.context.get(\"logger\")\n",
        "    logger.debug(f\"Received {file_path}, {config}\")\n",
        "    if file_path == \"ERROR\":\n",
        "        1/0\n",
        "    return \"Hello\""
      ],
      "execution_count": null,
      "outputs": []
    },
    {
      "cell_type": "code",
      "metadata": {
        "id": "gYB6L2qqPIgm"
      },
      "source": [
        "# We make a function that is the task in the flow\n",
        "@task(log_stdout=True)\n",
        "def say_hello(word):\n",
        "    \"\"\"\n",
        "    An example function with some longer time to process\n",
        "    \"\"\"\n",
        "    for x in range(10):\n",
        "        print(f\"Say, {word}. Don't tell me what to do. {x}\")\n",
        "        sleep(3)"
      ],
      "execution_count": null,
      "outputs": []
    },
    {
      "cell_type": "code",
      "metadata": {
        "id": "iw2AwwqlWG2T"
      },
      "source": [
        "def define_test_flow():  # pragma: no cover\n",
        "    \"\"\"\n",
        "    Flow used for testing and learning about prefect\n",
        "    Do not really need parameters if you don't want them\n",
        "    \"\"\"\n",
        "    with Flow(name=\"Test Flow\") as flow:\n",
        "        file_path = Parameter(\"file_path\")\n",
        "        config = Parameter(\"config\")\n",
        "        word = test_logger(file_path, config)\n",
        "        say_hello(word, upstream_tasks=[word])\n",
        "    return flow"
      ],
      "execution_count": null,
      "outputs": []
    },
    {
      "cell_type": "code",
      "metadata": {
        "id": "NSJCzO6HWq7A"
      },
      "source": [
        "flow = define_test_flow()"
      ],
      "execution_count": null,
      "outputs": []
    },
    {
      "cell_type": "code",
      "metadata": {
        "id": "MzAiTksfWw0d",
        "colab": {
          "base_uri": "https://localhost:8080/",
          "height": 311
        },
        "outputId": "ad9d8a7a-390d-40af-979d-83dcdf4df93a"
      },
      "source": [
        "# We can visualize the flow and it shows the incoming parameters\n",
        "# and it would show other tasks\n",
        "flow.visualize(filename=\"flow_visualization\")"
      ],
      "execution_count": null,
      "outputs": [
        {
          "output_type": "execute_result",
          "data": {
            "text/plain": [
              "<graphviz.dot.Digraph at 0x7f5e258bb1d0>"
            ],
            "image/svg+xml": "<?xml version=\"1.0\" encoding=\"UTF-8\" standalone=\"no\"?>\n<!DOCTYPE svg PUBLIC \"-//W3C//DTD SVG 1.1//EN\"\n \"http://www.w3.org/Graphics/SVG/1.1/DTD/svg11.dtd\">\n<!-- Generated by graphviz version 2.40.1 (20161225.0304)\n -->\n<!-- Title: %3 Pages: 1 -->\n<svg width=\"182pt\" height=\"218pt\"\n viewBox=\"0.00 0.00 181.99 218.00\" xmlns=\"http://www.w3.org/2000/svg\" xmlns:xlink=\"http://www.w3.org/1999/xlink\">\n<g id=\"graph0\" class=\"graph\" transform=\"scale(1 1) rotate(0) translate(4 214)\">\n<title>%3</title>\n<polygon fill=\"#ffffff\" stroke=\"transparent\" points=\"-4,4 -4,-214 177.9931,-214 177.9931,4 -4,4\"/>\n<!-- 140042306479376 -->\n<g id=\"node1\" class=\"node\">\n<title>140042306479376</title>\n<ellipse fill=\"none\" stroke=\"#000000\" cx=\"82.4469\" cy=\"-105\" rx=\"51.9908\" ry=\"18\"/>\n<text text-anchor=\"middle\" x=\"82.4469\" y=\"-101.3\" font-family=\"Times,serif\" font-size=\"14.00\" fill=\"#000000\">test_logger</text>\n</g>\n<!-- 140042306479056 -->\n<g id=\"node4\" class=\"node\">\n<title>140042306479056</title>\n<ellipse fill=\"none\" stroke=\"#000000\" cx=\"82.4469\" cy=\"-18\" rx=\"46.2923\" ry=\"18\"/>\n<text text-anchor=\"middle\" x=\"82.4469\" y=\"-14.3\" font-family=\"Times,serif\" font-size=\"14.00\" fill=\"#000000\">say_hello</text>\n</g>\n<!-- 140042306479376&#45;&gt;140042306479056 -->\n<g id=\"edge3\" class=\"edge\">\n<title>140042306479376&#45;&gt;140042306479056</title>\n<path fill=\"none\" stroke=\"#000000\" d=\"M69.1758,-87.593C65.6267,-81.9606 62.2721,-75.4868 60.4469,-69 58.1445,-60.817 60.0367,-52.222 63.5075,-44.4691\"/>\n<polygon fill=\"#000000\" stroke=\"#000000\" points=\"66.6718,-45.9757 68.3484,-35.5143 60.5139,-42.6468 66.6718,-45.9757\"/>\n<text text-anchor=\"middle\" x=\"75.9469\" y=\"-57.8\" font-family=\"Times,serif\" font-size=\"14.00\" fill=\"#000000\">word</text>\n</g>\n<!-- 140042306479376&#45;&gt;140042306479056 -->\n<g id=\"edge4\" class=\"edge\">\n<title>140042306479376&#45;&gt;140042306479056</title>\n<path fill=\"none\" stroke=\"#000000\" d=\"M87.9037,-86.8491C89.3567,-81.1864 90.7228,-74.8826 91.4469,-69 92.3835,-61.3926 91.6982,-53.1963 90.3674,-45.6468\"/>\n<polygon fill=\"#000000\" stroke=\"#000000\" points=\"93.7866,-44.8987 88.2443,-35.8692 86.946,-46.3842 93.7866,-44.8987\"/>\n</g>\n<!-- 140042306047824 -->\n<g id=\"node2\" class=\"node\">\n<title>140042306047824</title>\n<ellipse fill=\"none\" stroke=\"#000000\" cx=\"34.4469\" cy=\"-192\" rx=\"34.394\" ry=\"18\"/>\n<text text-anchor=\"middle\" x=\"34.4469\" y=\"-188.3\" font-family=\"Times,serif\" font-size=\"14.00\" fill=\"#000000\">config</text>\n</g>\n<!-- 140042306047824&#45;&gt;140042306479376 -->\n<g id=\"edge2\" class=\"edge\">\n<title>140042306047824&#45;&gt;140042306479376</title>\n<path fill=\"none\" stroke=\"#000000\" d=\"M44.015,-174.5212C49.4149,-164.6696 56.294,-152.1409 62.4469,-141 64.0715,-138.0584 65.7737,-134.9835 67.4703,-131.9234\"/>\n<polygon fill=\"#000000\" stroke=\"#000000\" points=\"70.6662,-133.3774 72.4597,-122.9354 64.546,-129.9799 70.6662,-133.3774\"/>\n<text text-anchor=\"middle\" x=\"80.9469\" y=\"-144.8\" font-family=\"Times,serif\" font-size=\"14.00\" fill=\"#000000\">config</text>\n</g>\n<!-- 140042306047376 -->\n<g id=\"node3\" class=\"node\">\n<title>140042306047376</title>\n<ellipse fill=\"none\" stroke=\"#000000\" cx=\"130.4469\" cy=\"-192\" rx=\"43.5923\" ry=\"18\"/>\n<text text-anchor=\"middle\" x=\"130.4469\" y=\"-188.3\" font-family=\"Times,serif\" font-size=\"14.00\" fill=\"#000000\">file_path</text>\n</g>\n<!-- 140042306047376&#45;&gt;140042306479376 -->\n<g id=\"edge1\" class=\"edge\">\n<title>140042306047376&#45;&gt;140042306479376</title>\n<path fill=\"none\" stroke=\"#000000\" d=\"M120.7334,-174.3943C114.0116,-162.211 104.939,-145.7669 97.3128,-131.9443\"/>\n<polygon fill=\"#000000\" stroke=\"#000000\" points=\"100.2061,-129.9432 92.3108,-122.8782 94.0771,-133.3247 100.2061,-129.9432\"/>\n<text text-anchor=\"middle\" x=\"133.9469\" y=\"-144.8\" font-family=\"Times,serif\" font-size=\"14.00\" fill=\"#000000\">file_path</text>\n</g>\n</g>\n</svg>\n"
          },
          "metadata": {
            "tags": []
          },
          "execution_count": 7
        }
      ]
    },
    {
      "cell_type": "code",
      "metadata": {
        "id": "6ysVUwBCW02Z",
        "colab": {
          "base_uri": "https://localhost:8080/"
        },
        "outputId": "cde7a0b3-e82e-40e1-de48-af9142042e24"
      },
      "source": [
        "# We can run the flow right now, right here\n",
        "flow.run(file_path=\"TEST_PATH\", config={1: \"Test\"})\n",
        "# flow.run(file_path=\"ERROR\", config={1: \"Test\"}) # If you want to see error"
      ],
      "execution_count": null,
      "outputs": [
        {
          "output_type": "stream",
          "text": [
            "[2021-05-20 16:56:04+0000] INFO - prefect.FlowRunner | Beginning Flow run for 'Test Flow'\n",
            "[2021-05-20 16:56:04+0000] DEBUG - prefect.FlowRunner | Using executor type LocalExecutor\n",
            "[2021-05-20 16:56:04+0000] DEBUG - prefect.FlowRunner | Flow 'Test Flow': Handling state change from Scheduled to Running\n",
            "[2021-05-20 16:56:04+0000] INFO - prefect.TaskRunner | Task 'config': Starting task run...\n",
            "[2021-05-20 16:56:04+0000] DEBUG - prefect.TaskRunner | Task 'config': Handling state change from Pending to Running\n",
            "[2021-05-20 16:56:04+0000] DEBUG - prefect.TaskRunner | Task 'config': Calling task.run() method...\n",
            "[2021-05-20 16:56:04+0000] DEBUG - prefect.TaskRunner | Task 'config': Handling state change from Running to Success\n",
            "[2021-05-20 16:56:04+0000] INFO - prefect.TaskRunner | Task 'config': Finished task run for task with final state: 'Success'\n",
            "[2021-05-20 16:56:04+0000] INFO - prefect.TaskRunner | Task 'file_path': Starting task run...\n",
            "[2021-05-20 16:56:04+0000] DEBUG - prefect.TaskRunner | Task 'file_path': Handling state change from Pending to Running\n",
            "[2021-05-20 16:56:04+0000] DEBUG - prefect.TaskRunner | Task 'file_path': Calling task.run() method...\n",
            "[2021-05-20 16:56:04+0000] DEBUG - prefect.TaskRunner | Task 'file_path': Handling state change from Running to Success\n",
            "[2021-05-20 16:56:04+0000] INFO - prefect.TaskRunner | Task 'file_path': Finished task run for task with final state: 'Success'\n",
            "[2021-05-20 16:56:04+0000] INFO - prefect.TaskRunner | Task 'test_logger': Starting task run...\n",
            "[2021-05-20 16:56:04+0000] DEBUG - prefect.TaskRunner | Task 'test_logger': Handling state change from Pending to Running\n",
            "[2021-05-20 16:56:04+0000] DEBUG - prefect.TaskRunner | Task 'test_logger': Calling task.run() method...\n",
            "[2021-05-20 16:56:04+0000] DEBUG - prefect.test_logger | Received TEST_PATH, {1: 'Test'}\n",
            "[2021-05-20 16:56:04+0000] DEBUG - prefect.TaskRunner | Task 'test_logger': Handling state change from Running to Success\n",
            "[2021-05-20 16:56:04+0000] INFO - prefect.TaskRunner | Task 'test_logger': Finished task run for task with final state: 'Success'\n",
            "[2021-05-20 16:56:04+0000] INFO - prefect.TaskRunner | Task 'say_hello': Starting task run...\n",
            "[2021-05-20 16:56:04+0000] DEBUG - prefect.TaskRunner | Task 'say_hello': Handling state change from Pending to Running\n",
            "[2021-05-20 16:56:04+0000] DEBUG - prefect.TaskRunner | Task 'say_hello': Calling task.run() method...\n",
            "[2021-05-20 16:56:04+0000] INFO - prefect.TaskRunner | Say, Hello. Don't tell me what to do. 0\n",
            "[2021-05-20 16:56:07+0000] INFO - prefect.TaskRunner | Say, Hello. Don't tell me what to do. 1\n",
            "[2021-05-20 16:56:10+0000] INFO - prefect.TaskRunner | Say, Hello. Don't tell me what to do. 2\n",
            "[2021-05-20 16:56:13+0000] INFO - prefect.TaskRunner | Say, Hello. Don't tell me what to do. 3\n",
            "[2021-05-20 16:56:16+0000] INFO - prefect.TaskRunner | Say, Hello. Don't tell me what to do. 4\n",
            "[2021-05-20 16:56:19+0000] INFO - prefect.TaskRunner | Say, Hello. Don't tell me what to do. 5\n",
            "[2021-05-20 16:56:22+0000] INFO - prefect.TaskRunner | Say, Hello. Don't tell me what to do. 6\n",
            "[2021-05-20 16:56:25+0000] INFO - prefect.TaskRunner | Say, Hello. Don't tell me what to do. 7\n",
            "[2021-05-20 16:56:28+0000] INFO - prefect.TaskRunner | Say, Hello. Don't tell me what to do. 8\n",
            "[2021-05-20 16:56:31+0000] INFO - prefect.TaskRunner | Say, Hello. Don't tell me what to do. 9\n",
            "[2021-05-20 16:56:34+0000] DEBUG - prefect.TaskRunner | Task 'say_hello': Handling state change from Running to Success\n",
            "[2021-05-20 16:56:34+0000] INFO - prefect.TaskRunner | Task 'say_hello': Finished task run for task with final state: 'Success'\n",
            "[2021-05-20 16:56:34+0000] INFO - prefect.FlowRunner | Flow run SUCCESS: all reference tasks succeeded\n",
            "[2021-05-20 16:56:34+0000] DEBUG - prefect.FlowRunner | Flow 'Test Flow': Handling state change from Running to Success\n"
          ],
          "name": "stdout"
        },
        {
          "output_type": "execute_result",
          "data": {
            "text/plain": [
              "<Success: \"All reference tasks succeeded.\">"
            ]
          },
          "metadata": {
            "tags": []
          },
          "execution_count": 8
        }
      ]
    },
    {
      "cell_type": "code",
      "metadata": {
        "id": "vSrUBjieihX5",
        "colab": {
          "base_uri": "https://localhost:8080/"
        },
        "outputId": "1bab9e28-bf6d-492f-b137-0760b62baf4e"
      },
      "source": [
        "# Let's send to the cloud to see it\n",
        "!prefect backend cloud"
      ],
      "execution_count": null,
      "outputs": [
        {
          "output_type": "stream",
          "text": [
            "\u001b[32mBackend switched to cloud\u001b[0m\n"
          ],
          "name": "stdout"
        }
      ]
    },
    {
      "cell_type": "code",
      "metadata": {
        "id": "t77kEMzDil3S"
      },
      "source": [
        "# You need to get a key from: https://cloud.prefect.io/user/keys\n",
        "!prefect auth login -t {GET_YOUR_KEY}"
      ],
      "execution_count": null,
      "outputs": []
    },
    {
      "cell_type": "code",
      "metadata": {
        "id": "yRZwzAu9jOe9",
        "colab": {
          "base_uri": "https://localhost:8080/"
        },
        "outputId": "c24f09da-2607-440c-ab35-f8cf718f0a25"
      },
      "source": [
        "# Create a project for organization\n",
        "!prefect create project 'Hello, World!'"
      ],
      "execution_count": null,
      "outputs": [
        {
          "output_type": "stream",
          "text": [
            "\u001b[32mHello, World! created\u001b[0m\n"
          ],
          "name": "stdout"
        }
      ]
    },
    {
      "cell_type": "code",
      "metadata": {
        "id": "BP_uu-0pXL74",
        "colab": {
          "base_uri": "https://localhost:8080/"
        },
        "outputId": "a742f9d9-b232-493d-d467-ad08c5ef1e48"
      },
      "source": [
        "# Send your flow STRUCTURE to the cloud\n",
        "flow_id = flow.register(project_name=\"Hello, World!\")"
      ],
      "execution_count": null,
      "outputs": [
        {
          "output_type": "stream",
          "text": [
            "Flow URL: https://cloud.prefect.io/venturafranklin/flow/7abcd8a1-3dd4-451b-9522-6292e6631330\n",
            " └── ID: 6903a935-b121-4fdc-888a-e7a944bdb854\n",
            " └── Project: Hello, World!\n",
            " └── Labels: ['b6ed7a34e453']\n"
          ],
          "name": "stdout"
        }
      ]
    },
    {
      "cell_type": "code",
      "metadata": {
        "id": "dS-WK2Gel-qG",
        "colab": {
          "base_uri": "https://localhost:8080/"
        },
        "outputId": "21edaca9-2159-466e-e591-7ee42f653b8c"
      },
      "source": [
        "# We need this id later for triggering the flow\n",
        "print(flow_id)"
      ],
      "execution_count": null,
      "outputs": [
        {
          "output_type": "stream",
          "text": [
            "6903a935-b121-4fdc-888a-e7a944bdb854\n"
          ],
          "name": "stdout"
        }
      ]
    },
    {
      "cell_type": "code",
      "metadata": {
        "id": "ed0baQwukGh-"
      },
      "source": [
        "from prefect import Client"
      ],
      "execution_count": null,
      "outputs": []
    },
    {
      "cell_type": "code",
      "metadata": {
        "id": "_SlI_WY6kdBV",
        "colab": {
          "base_uri": "https://localhost:8080/",
          "height": 35
        },
        "outputId": "1239c1ca-c9a9-4f6f-a031-954ec9fcb582"
      },
      "source": [
        "# Register the start of a flow run with the cloud\n",
        "#      so the system knows it is coming\n",
        "c = Client()\n",
        "c.create_flow_run(flow_id=flow_id, parameters={\"file_path\": \"TEST_PATH\", \"config\": {1: \"Test\"}})\n",
        "# c.create_flow_run(flow_id=flow_id, parameters={\"file_path\": \"ERROR\", \"config\": {1: \"Test\"}})  # If you want to see error"
      ],
      "execution_count": null,
      "outputs": [
        {
          "output_type": "execute_result",
          "data": {
            "application/vnd.google.colaboratory.intrinsic+json": {
              "type": "string"
            },
            "text/plain": [
              "'18eab1fb-3eec-46f3-a988-17dbf1ca517b'"
            ]
          },
          "metadata": {
            "tags": []
          },
          "execution_count": 15
        }
      ]
    },
    {
      "cell_type": "code",
      "metadata": {
        "id": "TPHjvYwPmDvz"
      },
      "source": [
        "# You will need to make a token: https://cloud.prefect.io/team/service-accounts\n",
        "flow.run_agent(token=\"{PUT_TOKEN_HERE}\")\n",
        "# This would normally be done in another terminal, \n",
        "#     you will need to kill it after it runs\n",
        "#     This is what actually runs the flow!"
      ],
      "execution_count": null,
      "outputs": []
    }
  ]
}